{
 "cells": [
  {
   "cell_type": "markdown",
   "metadata": {},
   "source": [
    "# 큰 수의 법칙\n",
    "#### CHAPTER 03 (그리디) 2번"
   ]
  },
  {
   "cell_type": "markdown",
   "metadata": {},
   "source": [
    "#### 알고리즘 코드 (1)"
   ]
  },
  {
   "cell_type": "code",
   "execution_count": 1,
   "metadata": {},
   "outputs": [
    {
     "name": "stdout",
     "output_type": "stream",
     "text": [
      "5 8 3\n",
      "2 4 5 4 6\n",
      "46\n"
     ]
    }
   ],
   "source": [
    "N, M, K = map(int, input().split())\n",
    "\n",
    "number = list(map(int, input().split()))\n",
    "\n",
    "number.sort()\n",
    "\n",
    "num_first_max = number[N - 1]\n",
    "num_second_max = number[N - 2]\n",
    "\n",
    "sum = 0\n",
    "\n",
    "while M > 0:\n",
    "    sum += num_first_max * K\n",
    "    M -= K\n",
    "    sum += num_second_max\n",
    "    M -= 1\n",
    "\n",
    "print(sum)"
   ]
  },
  {
   "cell_type": "markdown",
   "metadata": {},
   "source": [
    "#### 알고리즘 코드 (2)"
   ]
  },
  {
   "cell_type": "code",
   "execution_count": 2,
   "metadata": {},
   "outputs": [
    {
     "name": "stdout",
     "output_type": "stream",
     "text": [
      "5 8 3\n",
      "2 4 5 4 6\n",
      "46\n"
     ]
    }
   ],
   "source": [
    "N, M, K = map(int, input().split())\n",
    "\n",
    "number = list(map(int, input().split()))\n",
    "\n",
    "number.sort()\n",
    "\n",
    "num_first_max = number[N - 1]\n",
    "num_second_max = number[N - 2]\n",
    "\n",
    "sum = 0\n",
    "\n",
    "first_max_count = (M // (K + 1)) * K + M % (K + 1)\n",
    "second_max_count = M // (K + 1)\n",
    "\n",
    "sum = first_max_count * num_first_max + second_max_count * num_second_max\n",
    "\n",
    "print(sum)"
   ]
  }
 ],
 "metadata": {
  "kernelspec": {
   "display_name": "Python 3",
   "language": "python",
   "name": "python3"
  },
  "language_info": {
   "codemirror_mode": {
    "name": "ipython",
    "version": 3
   },
   "file_extension": ".py",
   "mimetype": "text/x-python",
   "name": "python",
   "nbconvert_exporter": "python",
   "pygments_lexer": "ipython3",
   "version": "3.8.5"
  }
 },
 "nbformat": 4,
 "nbformat_minor": 4
}
