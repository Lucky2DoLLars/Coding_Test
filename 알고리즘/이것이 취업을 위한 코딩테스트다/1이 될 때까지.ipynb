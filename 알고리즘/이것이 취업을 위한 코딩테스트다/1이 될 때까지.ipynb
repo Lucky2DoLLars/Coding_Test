{
 "cells": [
  {
   "cell_type": "markdown",
   "metadata": {},
   "source": [
    "# 1이 될 때까지\n",
    "#### CHAPTER 03 (그리디) - 4번"
   ]
  },
  {
   "cell_type": "markdown",
   "metadata": {},
   "source": [
    "#### 알고리즘 코드 (1)"
   ]
  },
  {
   "cell_type": "code",
   "execution_count": 1,
   "metadata": {},
   "outputs": [
    {
     "name": "stdout",
     "output_type": "stream",
     "text": [
      "123456789 4\n",
      "33\n",
      "13.007081270217896\n"
     ]
    }
   ],
   "source": [
    "import time\n",
    "start = time.time()\n",
    "\n",
    "N, K = map(int, input().split())\n",
    "\n",
    "count = 0\n",
    "while N != 1:\n",
    "    if N % K == 0:\n",
    "        N //= K\n",
    "    else:\n",
    "        N -= 1\n",
    "    count += 1\n",
    "\n",
    "print(count)\n",
    "print(time.time() - start)"
   ]
  },
  {
   "cell_type": "markdown",
   "metadata": {},
   "source": [
    "#### 알고리즘 코드 (2)"
   ]
  },
  {
   "cell_type": "code",
   "execution_count": 2,
   "metadata": {},
   "outputs": [
    {
     "name": "stdout",
     "output_type": "stream",
     "text": [
      "123456789 4\n",
      "33\n",
      "2.182764768600464\n"
     ]
    }
   ],
   "source": [
    "start = time.time()\n",
    "\n",
    "N, K = map(int, input().split())\n",
    "\n",
    "count = 0\n",
    "while N >= K:\n",
    "    if N % K == 0:\n",
    "        N //= K\n",
    "        count += 1\n",
    "    else:\n",
    "        diff = N % K\n",
    "        N -= diff\n",
    "        count += diff\n",
    "\n",
    "count += N - 1\n",
    "\n",
    "print(count)\n",
    "print(time.time() - start)"
   ]
  }
 ],
 "metadata": {
  "kernelspec": {
   "display_name": "Python 3",
   "language": "python",
   "name": "python3"
  },
  "language_info": {
   "codemirror_mode": {
    "name": "ipython",
    "version": 3
   },
   "file_extension": ".py",
   "mimetype": "text/x-python",
   "name": "python",
   "nbconvert_exporter": "python",
   "pygments_lexer": "ipython3",
   "version": "3.8.5"
  }
 },
 "nbformat": 4,
 "nbformat_minor": 4
}
