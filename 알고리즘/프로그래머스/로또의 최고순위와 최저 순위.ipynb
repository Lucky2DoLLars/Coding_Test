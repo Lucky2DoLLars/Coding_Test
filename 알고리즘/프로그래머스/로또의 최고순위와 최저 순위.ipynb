{
 "cells": [
  {
   "cell_type": "markdown",
   "metadata": {},
   "source": [
    "# 로또의 최고 순위와 최저 순위"
   ]
  },
  {
   "cell_type": "markdown",
   "metadata": {},
   "source": [
    "### 알고리즘 구현"
   ]
  },
  {
   "cell_type": "code",
   "execution_count": 2,
   "metadata": {},
   "outputs": [],
   "source": [
    "def solution(lottos, win_nums):\n",
    "    comparison = []\n",
    "    for i in range(6):\n",
    "        if lottos[i] in win_nums:\n",
    "            comparison.append(1)\n",
    "        elif lottos[i] == 0:\n",
    "            comparison.append(\"zero\")\n",
    "        else:\n",
    "            comparison.append(0)\n",
    "\n",
    "    coincide_num = comparison.count(1)\n",
    "    zero_num = comparison.count('zero')\n",
    "\n",
    "    answer_1 = 7 - (coincide_num + zero_num)\n",
    "    answer_2 = 7 - coincide_num\n",
    "\n",
    "    if answer_1 == 7:\n",
    "        answer_1 = 6\n",
    "    if answer_2 == 7:\n",
    "        answer_2 = 6\n",
    "    \n",
    "    answer = [answer_1, answer_2]\n",
    "    return answer"
   ]
  },
  {
   "cell_type": "markdown",
   "metadata": {},
   "source": [
    "### 테스트 케이스"
   ]
  },
  {
   "cell_type": "code",
   "execution_count": 4,
   "metadata": {},
   "outputs": [
    {
     "name": "stdout",
     "output_type": "stream",
     "text": [
      "[3, 5]\n",
      "[1, 6]\n",
      "[1, 1]\n"
     ]
    }
   ],
   "source": [
    "lottos_1 = [44, 1, 0, 0, 31, 25]\n",
    "lottos_2 = [0, 0, 0, 0, 0, 0]\n",
    "lottos_3 = [45, 4, 35, 20, 3, 9]\n",
    "win_nums_1 = [31, 10, 45, 1, 6, 19]\n",
    "win_nums_2 = [38, 19, 20, 40, 15, 25]\n",
    "win_nums_3 = [20, 9, 3, 45, 4, 35]\n",
    "\n",
    "print(solution(lottos_1, win_nums_1))\n",
    "print(solution(lottos_2, win_nums_2))\n",
    "print(solution(lottos_3, win_nums_3))"
   ]
  }
 ],
 "metadata": {
  "kernelspec": {
   "display_name": "Python 3",
   "language": "python",
   "name": "python3"
  },
  "language_info": {
   "codemirror_mode": {
    "name": "ipython",
    "version": 3
   },
   "file_extension": ".py",
   "mimetype": "text/x-python",
   "name": "python",
   "nbconvert_exporter": "python",
   "pygments_lexer": "ipython3",
   "version": "3.8.5"
  }
 },
 "nbformat": 4,
 "nbformat_minor": 4
}
