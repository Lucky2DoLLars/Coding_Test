{
 "cells": [
  {
   "cell_type": "markdown",
   "metadata": {},
   "source": [
    "# 행렬의 덧셈"
   ]
  },
  {
   "cell_type": "markdown",
   "metadata": {},
   "source": [
    "### 문제 설명\n",
    "행렬의 덧셈은 행과 열의 크기가 같은 두 행렬의 같은 행, 같은 열의 값을 서로 더한 결과가 됩니다. <br/>\n",
    "2개의 행렬 arr1과 arr2를 입력받아, 행렬 덧셈의 결과를 반환하는 함수, solution을 완성해주세요."
   ]
  },
  {
   "cell_type": "markdown",
   "metadata": {},
   "source": [
    "### 제한 조건\n",
    "* 행렬 arr1, arr2의 행과 열의 길이는 500을 넘지 않습니다."
   ]
  },
  {
   "cell_type": "markdown",
   "metadata": {},
   "source": [
    "### 알고리즘 코드"
   ]
  },
  {
   "cell_type": "code",
   "execution_count": 2,
   "metadata": {},
   "outputs": [],
   "source": [
    "def solution(arr1, arr2):\n",
    "    raw_idx = 0\n",
    "    col_idx = 0\n",
    "    while raw_idx < len(arr1):\n",
    "        while col_idx < len(arr1[0]):\n",
    "            arr1[raw_idx][col_idx] = arr1[raw_idx][col_idx] + arr2[raw_idx][col_idx]\n",
    "            col_idx = col_idx + 1\n",
    "        col_idx = 0\n",
    "        raw_idx = raw_idx + 1\n",
    "    answer = arr1\n",
    "    return answer"
   ]
  },
  {
   "cell_type": "markdown",
   "metadata": {},
   "source": [
    "### 테스트 케이스"
   ]
  },
  {
   "cell_type": "code",
   "execution_count": 3,
   "metadata": {},
   "outputs": [
    {
     "name": "stdout",
     "output_type": "stream",
     "text": [
      "[[4, 6], [7, 9]]\n",
      "[[4], [6]]\n"
     ]
    }
   ],
   "source": [
    "arr1_1 = [[1,2],[2,3]]\n",
    "arr1_2 = [[3,4],[5,6]]\n",
    "\n",
    "arr2_1 = [[1],[2]]\n",
    "arr2_2 = [[3],[4]]\n",
    "\n",
    "print(solution(arr1_1, arr1_2))\n",
    "print(solution(arr2_1, arr2_2))"
   ]
  }
 ],
 "metadata": {
  "kernelspec": {
   "display_name": "Python 3",
   "language": "python",
   "name": "python3"
  },
  "language_info": {
   "codemirror_mode": {
    "name": "ipython",
    "version": 3
   },
   "file_extension": ".py",
   "mimetype": "text/x-python",
   "name": "python",
   "nbconvert_exporter": "python",
   "pygments_lexer": "ipython3",
   "version": "3.8.5"
  }
 },
 "nbformat": 4,
 "nbformat_minor": 4
}
