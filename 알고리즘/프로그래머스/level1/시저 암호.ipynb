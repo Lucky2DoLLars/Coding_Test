{
 "cells": [
  {
   "cell_type": "markdown",
   "metadata": {},
   "source": [
    "# 시저 암호"
   ]
  },
  {
   "cell_type": "markdown",
   "metadata": {},
   "source": [
    "### 문제 설명\n",
    "어떤 문장의 각 알파벳을 일정한 거리만큼 밀어서 다른 알파벳으로 바꾸는 암호화 방식을 시저 암호라고 합니다. <br/>\n",
    "예를 들어 \"AB\"는 1만큼 밀면 \"BC\"가 되고, 3만큼 밀면 \"DE\"가 됩니다. <br/>\n",
    "\"z\"는 1만큼 밀면 \"a\"가 됩니다. 문자열 s와 거리 n을 입력받아 s를 n만큼 민 암호문을 만드는 함수, solution을 완성해 보세요."
   ]
  },
  {
   "cell_type": "markdown",
   "metadata": {},
   "source": [
    "### 제한 조건\n",
    "* 공백은 아무리 밀어도 공백입니다.\n",
    "* s는 알파벳 소문자, 대문자, 공백으로만 이루어져 있습니다.\n",
    "* s의 길이는 8000이하입니다.\n",
    "* n은 1 이상, 25이하인 자연수입니다."
   ]
  },
  {
   "cell_type": "markdown",
   "metadata": {},
   "source": [
    "### 알고리즘 코드"
   ]
  },
  {
   "cell_type": "code",
   "execution_count": 1,
   "metadata": {},
   "outputs": [],
   "source": [
    "def solution(s, n):\n",
    "    import string\n",
    "    upper_alphabet = [i for i in string.ascii_uppercase]\n",
    "    lower_alphabet = [i for i in string.ascii_lowercase]\n",
    "    num_alphabet = len(upper_alphabet)\n",
    "\n",
    "    result = \"\"\n",
    "    for i in range(0, len(s)):\n",
    "        if s[i] == \" \":\n",
    "            result += \" \"\n",
    "        else:\n",
    "            if s[i].isupper():\n",
    "                idx = (upper_alphabet.index(s[i]) + n) % num_alphabet\n",
    "                result += upper_alphabet[idx]\n",
    "            else:\n",
    "                idx = (lower_alphabet.index(s[i]) + n) % num_alphabet\n",
    "                result += lower_alphabet[idx]\n",
    "                \n",
    "    answer = result\n",
    "    return answer"
   ]
  },
  {
   "cell_type": "markdown",
   "metadata": {},
   "source": [
    "### 테스트 케이스"
   ]
  },
  {
   "cell_type": "code",
   "execution_count": 2,
   "metadata": {},
   "outputs": [
    {
     "name": "stdout",
     "output_type": "stream",
     "text": [
      "BC\n",
      "a\n",
      "e F d\n"
     ]
    }
   ],
   "source": [
    "s1 = \"AB\"\n",
    "s2 = \"z\"\n",
    "s3 = \"a B z\"\n",
    "\n",
    "n1 = 1\n",
    "n2 = 1\n",
    "n3 = 4\n",
    "\n",
    "print(solution(s1, n1))\n",
    "print(solution(s2, n2))\n",
    "print(solution(s3, n3))"
   ]
  }
 ],
 "metadata": {
  "kernelspec": {
   "display_name": "Python 3",
   "language": "python",
   "name": "python3"
  },
  "language_info": {
   "codemirror_mode": {
    "name": "ipython",
    "version": 3
   },
   "file_extension": ".py",
   "mimetype": "text/x-python",
   "name": "python",
   "nbconvert_exporter": "python",
   "pygments_lexer": "ipython3",
   "version": "3.8.5"
  }
 },
 "nbformat": 4,
 "nbformat_minor": 4
}
