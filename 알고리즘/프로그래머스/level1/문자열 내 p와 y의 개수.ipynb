{
 "cells": [
  {
   "cell_type": "markdown",
   "metadata": {},
   "source": [
    "# 문자열 내 p와 y의 개수"
   ]
  },
  {
   "cell_type": "markdown",
   "metadata": {},
   "source": [
    "#### 문제 설명\n",
    "대문자와 소문자가 섞여있는 문자열 s가 주어집니다. <br/>\n",
    "s에 'p'의 개수와 'y'의 개수를 비교해 같으면 True, 다르면 False를 return 하는solution를 완성하세요. <br/>\n",
    "'p', 'y' 모두 하나도 없는 경우는 항상 True를 리턴합니다. <br/>\n",
    "단, 개수를 비교할 때 대문자와 소문자는 구별하지 않습니다.\n",
    "\n",
    "예를 들어 s가 \"pPoooyY\"면 true를 return하고 \"Pyy\"라면 false를 return합니다."
   ]
  },
  {
   "cell_type": "code",
   "execution_count": 1,
   "metadata": {},
   "outputs": [],
   "source": [
    "# 알고리즘 코드\n",
    "\n",
    "def solution(s):\n",
    "    p_result = [i.lower() == 'p' for i in list(s)]\n",
    "    y_result = [i.lower() == 'y' for i in list(s)]\n",
    "    result = sum(p_result) == sum(y_result)\n",
    "    return result"
   ]
  },
  {
   "cell_type": "code",
   "execution_count": 3,
   "metadata": {},
   "outputs": [
    {
     "name": "stdout",
     "output_type": "stream",
     "text": [
      "True\n",
      "False\n"
     ]
    }
   ],
   "source": [
    "# 테스트 케이스\n",
    "\n",
    "s1 = \"pPoooyY\"\n",
    "s2 = \"Pyy\"\n",
    "\n",
    "print(solution(s1))\n",
    "print(solution(s2))"
   ]
  }
 ],
 "metadata": {
  "kernelspec": {
   "display_name": "Python 3",
   "language": "python",
   "name": "python3"
  },
  "language_info": {
   "codemirror_mode": {
    "name": "ipython",
    "version": 3
   },
   "file_extension": ".py",
   "mimetype": "text/x-python",
   "name": "python",
   "nbconvert_exporter": "python",
   "pygments_lexer": "ipython3",
   "version": "3.8.5"
  }
 },
 "nbformat": 4,
 "nbformat_minor": 4
}
