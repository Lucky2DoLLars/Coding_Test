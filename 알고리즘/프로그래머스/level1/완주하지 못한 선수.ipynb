{
 "cells": [
  {
   "cell_type": "markdown",
   "metadata": {},
   "source": [
    "# 완주하지 못한 선수"
   ]
  },
  {
   "cell_type": "markdown",
   "metadata": {},
   "source": [
    "### 문제 설명\n",
    "수많은 마라톤 선수들이 마라톤에 참여하였습니다. 단 한 명의 선수를 제외하고는 모든 선수가 마라톤을 완주하였습니다. <br/>\n",
    "마라톤에 참여한 선수들의 이름이 담긴 배열 participant와 완주한 선수들의 이름이 담긴 배열 completion이 주어질 때, 완주하지 못한 선수의 이름을 return 하도록 solution 함수를 작성해주세요."
   ]
  },
  {
   "cell_type": "markdown",
   "metadata": {},
   "source": [
    "### 제한 사항\n",
    "* 마라톤 경기에 참여한 선수의 수는 1명 이상 100,000명 이하입니다.\n",
    "* completion의 길이는 participant의 길이보다 1 작습니다.\n",
    "* 참가자의 이름은 1개 이상 20개 이하의 알파벳 소문자로 이루어져 있습니다.\n",
    "* 참가자 중에는 동명이인이 있을 수 있습니다."
   ]
  },
  {
   "cell_type": "markdown",
   "metadata": {},
   "source": [
    "### 알고리즘 코드"
   ]
  },
  {
   "cell_type": "code",
   "execution_count": 1,
   "metadata": {},
   "outputs": [],
   "source": [
    "def solution(participant, completion):\n",
    "\n",
    "    if len(set(participant)) == len(set(completion)):\n",
    "        dictionary = {}\n",
    "        temp = 0\n",
    "\n",
    "        for name in participant:\n",
    "            dictionary[hash(name)] = name\n",
    "            temp += int(hash(name))\n",
    "        \n",
    "        for com in completion:\n",
    "            temp -= hash(com)\n",
    "        \n",
    "        answer = dictionary[temp]\n",
    "        \n",
    "    else:\n",
    "        answer = list(set(participant) - set(completion))[0]\n",
    "        \n",
    "    return answer"
   ]
  },
  {
   "cell_type": "markdown",
   "metadata": {},
   "source": [
    "### 테스트 케이스"
   ]
  },
  {
   "cell_type": "code",
   "execution_count": 2,
   "metadata": {},
   "outputs": [
    {
     "name": "stdout",
     "output_type": "stream",
     "text": [
      "leo\n",
      "vinko\n",
      "mislav\n"
     ]
    }
   ],
   "source": [
    "participant1 = [\"leo\", \"kiki\", \"eden\"]\n",
    "participant2 = [\"marina\", \"josipa\", \"nikola\", \"vinko\", \"filipa\"]\n",
    "participant3 = [\"mislav\", \"stanko\", \"mislav\", \"ana\"]\n",
    "\n",
    "completion1 = [\"eden\", \"kiki\"]\n",
    "completion2 = [\"josipa\", \"filipa\", \"marina\", \"nikola\"]\n",
    "completion3 = [\"stanko\", \"ana\", \"mislav\"]\n",
    "\n",
    "print(solution(participant1, completion1))\n",
    "print(solution(participant2, completion2))\n",
    "print(solution(participant3, completion3))"
   ]
  }
 ],
 "metadata": {
  "kernelspec": {
   "display_name": "Python 3",
   "language": "python",
   "name": "python3"
  },
  "language_info": {
   "codemirror_mode": {
    "name": "ipython",
    "version": 3
   },
   "file_extension": ".py",
   "mimetype": "text/x-python",
   "name": "python",
   "nbconvert_exporter": "python",
   "pygments_lexer": "ipython3",
   "version": "3.8.5"
  }
 },
 "nbformat": 4,
 "nbformat_minor": 4
}
