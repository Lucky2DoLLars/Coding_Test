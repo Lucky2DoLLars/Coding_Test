{
 "cells": [
  {
   "cell_type": "markdown",
   "metadata": {},
   "source": [
    "# 나누어 떨어지는 숫자 배열"
   ]
  },
  {
   "cell_type": "markdown",
   "metadata": {},
   "source": [
    "### 문제 설명\n",
    "array의 각 element 중 divisor로 나누어 떨어지는 값을 오름차순으로 정렬한 배열을 반환하는 함수, solution을 작성해주세요. <br/>\n",
    "divisor로 나누어 떨어지는 element가 하나도 없다면 배열에 -1을 담아 반환하세요."
   ]
  },
  {
   "cell_type": "markdown",
   "metadata": {},
   "source": [
    "### 제한 사항\n",
    "* arr은 자연수를 담은 배열입니다.\n",
    "* 정수 i, j에 대해 i ≠ j 이면 arr[i] ≠ arr[j] 입니다.\n",
    "* divisor는 자연수입니다.\n",
    "* array는 길이 1 이상인 배열입니다."
   ]
  },
  {
   "cell_type": "markdown",
   "metadata": {},
   "source": [
    "### 알고리즘 코드"
   ]
  },
  {
   "cell_type": "code",
   "execution_count": 1,
   "metadata": {},
   "outputs": [],
   "source": [
    "def solution(arr, divisor):\n",
    "    result = []\n",
    "\n",
    "    for i in range(len(arr)):\n",
    "        if arr[i] % divisor != 0:\n",
    "            continue\n",
    "        result.append(arr[i])\n",
    "\n",
    "        result.sort()\n",
    "\n",
    "    if len(result) == 0:\n",
    "        answer = [-1]\n",
    "    else:\n",
    "        answer = result\n",
    "\n",
    "    return answer"
   ]
  },
  {
   "cell_type": "markdown",
   "metadata": {},
   "source": [
    "### 테스트 케이스"
   ]
  },
  {
   "cell_type": "code",
   "execution_count": 2,
   "metadata": {},
   "outputs": [
    {
     "name": "stdout",
     "output_type": "stream",
     "text": [
      "[5, 10]\n",
      "[1, 2, 3, 36]\n",
      "[-1]\n"
     ]
    }
   ],
   "source": [
    "arr1 = [5, 9, 7, 10]\n",
    "arr2 = [2, 36, 1, 3]\n",
    "arr3 = [3, 2, 6]\n",
    "divisor1 = 5\n",
    "divisor2 = 1\n",
    "divisor3 = 10\n",
    "\n",
    "print(solution(arr1, divisor1))\n",
    "print(solution(arr2, divisor2))\n",
    "print(solution(arr3, divisor3))"
   ]
  }
 ],
 "metadata": {
  "kernelspec": {
   "display_name": "Python 3",
   "language": "python",
   "name": "python3"
  },
  "language_info": {
   "codemirror_mode": {
    "name": "ipython",
    "version": 3
   },
   "file_extension": ".py",
   "mimetype": "text/x-python",
   "name": "python",
   "nbconvert_exporter": "python",
   "pygments_lexer": "ipython3",
   "version": "3.8.5"
  }
 },
 "nbformat": 4,
 "nbformat_minor": 4
}
