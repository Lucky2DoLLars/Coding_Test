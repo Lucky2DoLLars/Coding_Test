{
 "cells": [
  {
   "cell_type": "markdown",
   "metadata": {},
   "source": [
    "# 두 정수 사이의 합"
   ]
  },
  {
   "cell_type": "markdown",
   "metadata": {},
   "source": [
    "### 문제 설명\n",
    "\n",
    "두 정수 a, b가 주어졌을 때 a와 b 사이에 속한 모든 정수의 합을 리턴하는 함수, solution을 완성하세요. <br/>\n",
    "예를 들어 a = 3, b = 5인 경우, 3 + 4 + 5 = 12이므로 12를 리턴합니다."
   ]
  },
  {
   "cell_type": "markdown",
   "metadata": {},
   "source": [
    "### 제한 조건\n",
    "* a와 b가 같은 경우는 둘 중 아무 수나 리턴하세요.\n",
    "* a와 b는 -10,000,000 이상 10,000,000 이하인 정수입니다.\n",
    "* a와 b의 대소관계는 정해져있지 않습니다."
   ]
  },
  {
   "cell_type": "markdown",
   "metadata": {},
   "source": [
    "### 알고리즘 코드"
   ]
  },
  {
   "cell_type": "code",
   "execution_count": 1,
   "metadata": {},
   "outputs": [],
   "source": [
    "def solution(a, b):\n",
    "    if a == b:\n",
    "        answer = a\n",
    "        return answer\n",
    "    else:\n",
    "        num = [a, b]\n",
    "        answer = sum(range(min(num), max(num) + 1))\n",
    "        return answer"
   ]
  },
  {
   "cell_type": "markdown",
   "metadata": {},
   "source": [
    "### 테스트 케이스"
   ]
  },
  {
   "cell_type": "code",
   "execution_count": 2,
   "metadata": {},
   "outputs": [
    {
     "name": "stdout",
     "output_type": "stream",
     "text": [
      "12\n",
      "3\n",
      "12\n"
     ]
    }
   ],
   "source": [
    "a1 = 3\n",
    "b1 = 5\n",
    "a2 = 3\n",
    "b2 = 3\n",
    "a3 = 5\n",
    "b3 = 3\n",
    "\n",
    "print(solution(a1, b1))\n",
    "print(solution(a2, b2))\n",
    "print(solution(a3, b3))"
   ]
  }
 ],
 "metadata": {
  "kernelspec": {
   "display_name": "Python 3",
   "language": "python",
   "name": "python3"
  },
  "language_info": {
   "codemirror_mode": {
    "name": "ipython",
    "version": 3
   },
   "file_extension": ".py",
   "mimetype": "text/x-python",
   "name": "python",
   "nbconvert_exporter": "python",
   "pygments_lexer": "ipython3",
   "version": "3.8.5"
  }
 },
 "nbformat": 4,
 "nbformat_minor": 4
}
