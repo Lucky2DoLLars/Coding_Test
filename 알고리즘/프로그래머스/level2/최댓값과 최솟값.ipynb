{
 "cells": [
  {
   "cell_type": "markdown",
   "metadata": {},
   "source": [
    "# 최댓값과 최솟값"
   ]
  },
  {
   "cell_type": "markdown",
   "metadata": {},
   "source": [
    "### 문제 설명\n",
    "문자열 s에는 공백으로 구분된 숫자들이 저장되어 있습니다. <br/>\n",
    "str에 나타나는 숫자 중 최소값과 최대값을 찾아 이를 \"(최소값) (최대값)\"형태의 문자열을 반환하는 함수, solution을 완성하세요. <br/>\n",
    "예를들어 s가 \"1 2 3 4\"라면 \"1 4\"를 리턴하고, \"-1 -2 -3 -4\"라면 \"-4 -1\"을 리턴하면 됩니다."
   ]
  },
  {
   "cell_type": "markdown",
   "metadata": {},
   "source": [
    "### 제한 조건\n",
    "* s에는 둘 이상의 정수가 공백으로 구분되어 있습니다."
   ]
  },
  {
   "cell_type": "markdown",
   "metadata": {},
   "source": [
    "### 알고리즘 코드"
   ]
  },
  {
   "cell_type": "code",
   "execution_count": 1,
   "metadata": {},
   "outputs": [],
   "source": [
    "def solution(s):\n",
    "    num_list = [int(i) for i in s.split(\" \")]\n",
    "\n",
    "    num_max = str(max(num_list))\n",
    "    num_min = str(min(num_list))\n",
    "    \n",
    "    answer = num_min + \" \" + num_max\n",
    "    return answer"
   ]
  },
  {
   "cell_type": "markdown",
   "metadata": {},
   "source": [
    "### 테스트 케이스"
   ]
  },
  {
   "cell_type": "code",
   "execution_count": 2,
   "metadata": {},
   "outputs": [
    {
     "name": "stdout",
     "output_type": "stream",
     "text": [
      "1 4\n",
      "-4 1\n",
      "-1 -1\n"
     ]
    }
   ],
   "source": [
    "s1 = \"1 2 3 4\"\n",
    "s2 = \"1 -1 -2 -3 -4\"\n",
    "s3 = \"-1 -1\"\n",
    "\n",
    "print(solution(s1))\n",
    "print(solution(s2))\n",
    "print(solution(s3))"
   ]
  }
 ],
 "metadata": {
  "kernelspec": {
   "display_name": "Python 3",
   "language": "python",
   "name": "python3"
  },
  "language_info": {
   "codemirror_mode": {
    "name": "ipython",
    "version": 3
   },
   "file_extension": ".py",
   "mimetype": "text/x-python",
   "name": "python",
   "nbconvert_exporter": "python",
   "pygments_lexer": "ipython3",
   "version": "3.8.5"
  }
 },
 "nbformat": 4,
 "nbformat_minor": 4
}
