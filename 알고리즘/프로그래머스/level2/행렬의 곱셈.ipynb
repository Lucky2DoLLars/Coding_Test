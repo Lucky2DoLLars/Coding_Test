{
 "cells": [
  {
   "cell_type": "markdown",
   "metadata": {},
   "source": [
    "# 행렬의 곱셈"
   ]
  },
  {
   "cell_type": "markdown",
   "metadata": {},
   "source": [
    "### 문제 설명\n",
    "2차원 행렬 arr1과 arr2를 입력받아, arr1에 arr2를 곱한 결과를 반환하는 함수, solution을 완성해주세요."
   ]
  },
  {
   "cell_type": "markdown",
   "metadata": {},
   "source": [
    "### 제한 조건\n",
    "* 행렬 arr1, arr2의 행과 열의 길이는 2 이상 100 이하입니다.\n",
    "* 행렬 arr1, arr2의 원소는 -10 이상 20 이하인 자연수입니다.\n",
    "* 곱할 수 있는 배열만 주어집니다."
   ]
  },
  {
   "cell_type": "markdown",
   "metadata": {},
   "source": [
    "### 알고리즘 코드"
   ]
  },
  {
   "cell_type": "code",
   "execution_count": 1,
   "metadata": {},
   "outputs": [],
   "source": [
    "def solution(arr1, arr2):\n",
    "    col = list(zip(*arr2))\n",
    "\n",
    "    def inner_product(a, b):\n",
    "        return sum([a[i] * b[i] for i in range(0, len(a))])\n",
    "\n",
    "    n_row = len(arr1)\n",
    "    n_col = len(col)\n",
    "\n",
    "    matrix = []\n",
    "\n",
    "    for i in range(0, n_row):\n",
    "        matrix.append([inner_product(arr1[i], col[j]) for j in range(0, n_col)])\n",
    "    \n",
    "    answer = matrix\n",
    "    return answer"
   ]
  },
  {
   "cell_type": "markdown",
   "metadata": {},
   "source": [
    "### 테스트 케이스"
   ]
  },
  {
   "cell_type": "code",
   "execution_count": 2,
   "metadata": {},
   "outputs": [
    {
     "name": "stdout",
     "output_type": "stream",
     "text": [
      "[[7, 12], [11, 16], [13, 18]]\n"
     ]
    }
   ],
   "source": [
    "arr1 = [[1, 4], [3, 2], [4, 1]]\n",
    "arr2 = [[3, 4], [1, 2]]\n",
    "\n",
    "print(solution(arr1, arr2))"
   ]
  }
 ],
 "metadata": {
  "kernelspec": {
   "display_name": "Python 3",
   "language": "python",
   "name": "python3"
  },
  "language_info": {
   "codemirror_mode": {
    "name": "ipython",
    "version": 3
   },
   "file_extension": ".py",
   "mimetype": "text/x-python",
   "name": "python",
   "nbconvert_exporter": "python",
   "pygments_lexer": "ipython3",
   "version": "3.8.5"
  }
 },
 "nbformat": 4,
 "nbformat_minor": 4
}
