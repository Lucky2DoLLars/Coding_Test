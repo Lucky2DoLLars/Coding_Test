{
 "cells": [
  {
   "cell_type": "markdown",
   "metadata": {},
   "source": [
    "# (03) 이진탐색"
   ]
  },
  {
   "cell_type": "markdown",
   "metadata": {},
   "source": [
    "### 문제 설명\n",
    "리스트 L 과, 그 안에서 찾으려 하는 원소 x 가 인자로 주어질 때, x 와 같은 값을 가지는 원소의 인덱스를 리턴하는 함수 solution() 을 완성하세요. 만약 리스트 L 안에 x 와 같은 값을 가지는 원소가 존재하지 않는 경우에는 -1 을 리턴합니다. 리스트 L 은 자연수 원소들로 이루어져 있으며, 크기 순으로 정렬되어 있다고 가정합니다. 또한, 동일한 원소는 두 번 이상 나타나지 않습니다.\n",
    "\n",
    "예를 들어,\n",
    "L = [2, 3, 5, 6, 9, 11, 15]\n",
    "x = 6\n",
    "의 인자들이 주어지면, L[3] == 6 이므로 3 을 리턴해야 합니다.\n",
    "\n",
    "또 다른 예로,\n",
    "L = [2, 5, 7, 9, 11]\n",
    "x = 4\n",
    "로 주어지면, 리스트 L 내에 4 의 원소가 존재하지 않으므로 -1 을 리턴해야 합니다.\n",
    "\n",
    "이 연습문제에서는 알고리즘의 효율성도 평가합니다. 만약 순차 (선형) 탐색 알고리즘을 구현하는 경우에는 제한 시간 요구사항을 만족하지 못하여 효율성 테스트 케이스들을 통과하지 못할 수도 있습니다."
   ]
  },
  {
   "cell_type": "markdown",
   "metadata": {},
   "source": [
    "### 알고리즘 코드"
   ]
  },
  {
   "cell_type": "code",
   "execution_count": 1,
   "metadata": {},
   "outputs": [],
   "source": [
    "def solution(L, x):\n",
    "    lower = 0\n",
    "    upper = len(L) - 1\n",
    "    index = -1\n",
    "\n",
    "    if len(L) == 0:\n",
    "        return -1\n",
    "    elif L[lower] == x:\n",
    "        return lower\n",
    "    elif L[upper] == x:\n",
    "        return upper\n",
    "    \n",
    "    while lower <= upper:\n",
    "        middle = (lower + upper) // 2\n",
    "\n",
    "        if L[middle] == x:\n",
    "            index = middle\n",
    "            break\n",
    "        elif L[middle] > x:\n",
    "            upper = middle - 1\n",
    "        else:\n",
    "            lower = middle + 1\n",
    "\n",
    "    answer = index\n",
    "    return answer"
   ]
  },
  {
   "cell_type": "markdown",
   "metadata": {},
   "source": [
    "### 테스트 케이스"
   ]
  },
  {
   "cell_type": "code",
   "execution_count": 2,
   "metadata": {},
   "outputs": [
    {
     "name": "stdout",
     "output_type": "stream",
     "text": [
      "3\n",
      "-1\n"
     ]
    }
   ],
   "source": [
    "L1 = [2, 3, 5, 6, 9, 11, 15]\n",
    "x1 = 6\n",
    "\n",
    "L2 = [2, 5, 7, 9, 11]\n",
    "x2 = 4\n",
    "\n",
    "print(solution(L1, x1))\n",
    "print(solution(L2, x2))"
   ]
  }
 ],
 "metadata": {
  "kernelspec": {
   "display_name": "Python 3",
   "language": "python",
   "name": "python3"
  },
  "language_info": {
   "codemirror_mode": {
    "name": "ipython",
    "version": 3
   },
   "file_extension": ".py",
   "mimetype": "text/x-python",
   "name": "python",
   "nbconvert_exporter": "python",
   "pygments_lexer": "ipython3",
   "version": "3.8.5"
  }
 },
 "nbformat": 4,
 "nbformat_minor": 4
}
