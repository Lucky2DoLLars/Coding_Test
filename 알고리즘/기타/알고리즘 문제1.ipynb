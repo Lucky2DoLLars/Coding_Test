{
 "cells": [
  {
   "cell_type": "markdown",
   "metadata": {},
   "source": [
    "# 알고리즘 문제 1"
   ]
  },
  {
   "cell_type": "markdown",
   "metadata": {},
   "source": [
    "### 알고리즘 코드"
   ]
  },
  {
   "cell_type": "code",
   "execution_count": 2,
   "metadata": {},
   "outputs": [],
   "source": [
    "def solution(row, col, mat_crit_info):\n",
    "\n",
    "    # 행렬 생성\n",
    "    mat = [[(i + 1) + j * col for i in range(row)] for j in range(col)]\n",
    "    mat = np.array(mat)\n",
    "\n",
    "    # 미는 연산을 수정한 후 행렬\n",
    "    # 및 수정후 마지막 행, 열 합계 저장\n",
    "    result = {\"matrix\" : [],\n",
    "              \"sum\" : []}\n",
    "\n",
    "    for k in range(len(mat_crit_info)):\n",
    "        mat_crit = mat_crit_info[k]\n",
    "        push_num = mat_crit[5]\n",
    "\n",
    "        # 행렬 원소 수정할 인덱스 설정\n",
    "        mat_set = mat[(mat_crit[0] - 1) : mat_crit[2], (mat_crit[1] - 1) : mat_crit[3]]\n",
    "        row_set = mat_set.shape[0]\n",
    "        col_set = mat_set.shape[1]\n",
    "\n",
    "        # 원소 수정을 수행 하기 위한 인덱스 생성 및 행렬 변환\n",
    "        if mat_crit[4]: # 행 기준 or 열 기준 구별\n",
    "            idx = [i for i in range(row_set)] # 행 기준\n",
    "            for i in range(push_num):\n",
    "                idx = [idx[len(idx) - 1]] + idx[0 : len(idx) -1]\n",
    "\n",
    "            mat_converted = mat_set[idx, :]\n",
    "            sum_converted = sum(mat_converted[mat_converted.shape[0] - 1, :])\n",
    "            mat[(mat_crit[0] - 1) : mat_crit[2], (mat_crit[1] - 1) : mat_crit[3]] = mat_converted\n",
    "        else:\n",
    "            idx = [i for i in range(col_set)] # 열 기준\n",
    "            for i in range(push_num):\n",
    "                idx = [idx[len(idx) - 1]] + idx[0 : len(idx) -1]\n",
    "\n",
    "            mat_converted = mat_set[:, idx]\n",
    "            sum_converted = sum(mat_converted[:, mat_converted.shape[1] - 1])\n",
    "            mat[(mat_crit[0] - 1) : mat_crit[2], (mat_crit[1] - 1) : mat_crit[3]] = mat_converted\n",
    "\n",
    "        result[\"matrix\"].append(copy.deepcopy(mat))\n",
    "        result[\"sum\"].append(sum_converted)\n",
    "\n",
    "    return result"
   ]
  },
  {
   "cell_type": "markdown",
   "metadata": {},
   "source": [
    "### 테스트 케이스"
   ]
  },
  {
   "cell_type": "code",
   "execution_count": 4,
   "metadata": {},
   "outputs": [
    {
     "data": {
      "text/plain": [
       "{'matrix': [array([[ 5,  1,  2,  3,  4],\n",
       "         [10,  6,  7,  8,  9],\n",
       "         [15, 11, 12, 13, 14],\n",
       "         [20, 16, 17, 18, 19],\n",
       "         [25, 21, 22, 23, 24]]),\n",
       "  array([[ 4,  5,  1,  2,  3],\n",
       "         [ 9, 10,  6,  7,  8],\n",
       "         [14, 15, 11, 12, 13],\n",
       "         [19, 20, 16, 17, 18],\n",
       "         [24, 25, 21, 22, 23]]),\n",
       "  array([[ 3,  4,  5,  1,  2],\n",
       "         [ 8,  9, 10,  6,  7],\n",
       "         [13, 14, 15, 11, 12],\n",
       "         [18, 19, 20, 16, 17],\n",
       "         [23, 24, 25, 21, 22]])],\n",
       " 'sum': [70, 65, 60]}"
      ]
     },
     "execution_count": 4,
     "metadata": {},
     "output_type": "execute_result"
    }
   ],
   "source": [
    "import numpy as np\n",
    "import copy\n",
    "\n",
    "row = 5\n",
    "col = 5\n",
    "\n",
    "# 1 ~ 4 원소 : 행렬 원소 수정 인덱스\n",
    "# 5 원소 : 행 기준 or 열 기준 구분자\n",
    "# 6 원소 : 행렬 원소 미는 횟수\n",
    "\n",
    "mat_crit_info = [[1, 1, 5, 5, 0, 1],\n",
    "                 [1, 1, 5, 5, 0, 1],\n",
    "                 [1, 1, 5, 5, 0, 1]]\n",
    "\n",
    "solution(row, col, mat_crit_info)"
   ]
  }
 ],
 "metadata": {
  "kernelspec": {
   "display_name": "Python 3",
   "language": "python",
   "name": "python3"
  },
  "language_info": {
   "codemirror_mode": {
    "name": "ipython",
    "version": 3
   },
   "file_extension": ".py",
   "mimetype": "text/x-python",
   "name": "python",
   "nbconvert_exporter": "python",
   "pygments_lexer": "ipython3",
   "version": "3.8.5"
  }
 },
 "nbformat": 4,
 "nbformat_minor": 4
}
