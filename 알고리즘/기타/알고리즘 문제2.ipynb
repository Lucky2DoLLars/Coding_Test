{
 "cells": [
  {
   "cell_type": "markdown",
   "metadata": {},
   "source": [
    "# 알고리즘 문제 2"
   ]
  },
  {
   "cell_type": "markdown",
   "metadata": {},
   "source": [
    "### 알고리즘 코드"
   ]
  },
  {
   "cell_type": "code",
   "execution_count": 1,
   "metadata": {},
   "outputs": [],
   "source": [
    "def solution (main, friends_list):\n",
    "\n",
    "    # 친구 쌍에서 주인공 위치 파악\n",
    "    main_idx = []\n",
    "    for i in range(len(friends_list)):\n",
    "        if main in friends_list[i]:\n",
    "            main_idx.append(i)\n",
    "\n",
    "    # 주인공과 친구인 사람 파악\n",
    "    name = []\n",
    "    for i in range(len(main_idx)):\n",
    "        name.append(set(friends_list[main_idx[i]]) - {main})\n",
    "\n",
    "    # 주인공과 친구인 사람과 친구인 사람 파악\n",
    "    name_set = set()\n",
    "    for i in range(len(name)):\n",
    "        name_idx = []\n",
    "        for j in range(len(friends_list)):\n",
    "            if list(name[i])[0] in friends_list[j]:\n",
    "                name_idx.append(j)\n",
    "\n",
    "        for k in range(len(name_idx)):\n",
    "            name_set = name_set.union(set(friends_list[name_idx[k]]))\n",
    "\n",
    "    # 친구 추천 후보 산출\n",
    "    exclude_name = {main}\n",
    "    for i in range(len(name)):\n",
    "        exclude_name = set.union(exclude_name, name[i])\n",
    "\n",
    "    candid = list(name_set - exclude_name)\n",
    "\n",
    "    # 친구 추천 후보 횟수 산출\n",
    "    result = {}\n",
    "    for i in range(len(candid)):\n",
    "        count = 0\n",
    "        for j in range(len(friends_list)):\n",
    "            if candid[i] in friends_list[j]:\n",
    "                count += 1\n",
    "        result[candid[i]] = count\n",
    "\n",
    "    # 친구 추천 후보 횟수 순으로 정렬\n",
    "    result = sorted(result.items(), key=operator.itemgetter(1), reverse=True)\n",
    "    result = dict(result)\n",
    "\n",
    "    return result"
   ]
  },
  {
   "cell_type": "markdown",
   "metadata": {},
   "source": [
    "### 테스트 케이스"
   ]
  },
  {
   "cell_type": "code",
   "execution_count": 2,
   "metadata": {},
   "outputs": [
    {
     "data": {
      "text/plain": [
       "{'andy': 3, 'woo': 2, 'kolmokorov': 1}"
      ]
     },
     "execution_count": 2,
     "metadata": {},
     "output_type": "execute_result"
    }
   ],
   "source": [
    "import operator\n",
    "\n",
    "A = [[\"andy\", \"jane\"],\n",
    "     [\"kim\", \"lee\"],\n",
    "     [\"woo\", \"jane\"],\n",
    "     [\"kim\", \"woo\"],\n",
    "     [\"lee\", \"jane\"],\n",
    "     [\"kim\", \"andy\"],\n",
    "     [\"lee\", \"paul\"],\n",
    "     [\"paul\", \"andy\"],\n",
    "     [\"lee\", \"koo\"],\n",
    "     [\"koo\", \"kolmokorov\"]]\n",
    "\n",
    "\n",
    "# lee 의 친구를 찾는다.\n",
    "\n",
    "main = \"lee\"\n",
    "\n",
    "solution(main, A)"
   ]
  }
 ],
 "metadata": {
  "kernelspec": {
   "display_name": "Python 3",
   "language": "python",
   "name": "python3"
  },
  "language_info": {
   "codemirror_mode": {
    "name": "ipython",
    "version": 3
   },
   "file_extension": ".py",
   "mimetype": "text/x-python",
   "name": "python",
   "nbconvert_exporter": "python",
   "pygments_lexer": "ipython3",
   "version": "3.8.5"
  }
 },
 "nbformat": 4,
 "nbformat_minor": 4
}
