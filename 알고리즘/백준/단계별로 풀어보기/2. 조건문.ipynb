{
 "cells": [
  {
   "cell_type": "markdown",
   "metadata": {},
   "source": [
    "# 조건문"
   ]
  },
  {
   "cell_type": "markdown",
   "metadata": {},
   "source": [
    "#### 1. 두 수 비교하기 (문제번호 1330)"
   ]
  },
  {
   "cell_type": "code",
   "execution_count": 1,
   "metadata": {},
   "outputs": [
    {
     "name": "stdout",
     "output_type": "stream",
     "text": [
      "3 3\n",
      "==\n"
     ]
    }
   ],
   "source": [
    "a, b = map(int, input().split())\n",
    "\n",
    "if a < b:\n",
    "    print(\"<\")\n",
    "elif a > b:\n",
    "    print(\">\")\n",
    "else:\n",
    "    print(\"==\")"
   ]
  },
  {
   "cell_type": "markdown",
   "metadata": {},
   "source": [
    "#### 2. 시험 성적 (문제번호 9498)"
   ]
  },
  {
   "cell_type": "code",
   "execution_count": 2,
   "metadata": {},
   "outputs": [
    {
     "name": "stdout",
     "output_type": "stream",
     "text": [
      "40\n",
      "F\n"
     ]
    }
   ],
   "source": [
    "score = int(input())\n",
    "\n",
    "if score >= 90:\n",
    "    print(\"A\")\n",
    "elif score >= 80:\n",
    "    print(\"B\")\n",
    "elif score >= 70:\n",
    "    print(\"C\")\n",
    "elif score >= 60:\n",
    "    print(\"D\")\n",
    "else:\n",
    "    print(\"F\")"
   ]
  },
  {
   "cell_type": "markdown",
   "metadata": {},
   "source": [
    "#### 3. 윤년 (문제번호 2753)"
   ]
  },
  {
   "cell_type": "code",
   "execution_count": 3,
   "metadata": {},
   "outputs": [
    {
     "name": "stdout",
     "output_type": "stream",
     "text": [
      "2019\n",
      "0\n"
     ]
    }
   ],
   "source": [
    "year = int(input())\n",
    "\n",
    "if (year % 4) == 0:\n",
    "    if (year % 100 != 0) or (year % 400 == 0):\n",
    "        print(1)\n",
    "    else:\n",
    "        print(0)\n",
    "else:\n",
    "    print(0)"
   ]
  },
  {
   "cell_type": "markdown",
   "metadata": {},
   "source": [
    "#### 4. 사분면 고르기 (문제번호 14681)"
   ]
  },
  {
   "cell_type": "code",
   "execution_count": 4,
   "metadata": {},
   "outputs": [
    {
     "name": "stdout",
     "output_type": "stream",
     "text": [
      "5\n",
      "7\n",
      "1\n"
     ]
    }
   ],
   "source": [
    "x = int(input())\n",
    "y = int(input())\n",
    "\n",
    "if x > 0:\n",
    "    if y > 0:\n",
    "        print(1)\n",
    "    else:\n",
    "        print(4)\n",
    "else:\n",
    "    if y > 0:\n",
    "        print(2)\n",
    "    else:\n",
    "        print(3)"
   ]
  },
  {
   "cell_type": "markdown",
   "metadata": {},
   "source": [
    "#### 5. 알람 시계 (문제번호 2884)"
   ]
  },
  {
   "cell_type": "code",
   "execution_count": 6,
   "metadata": {},
   "outputs": [
    {
     "name": "stdout",
     "output_type": "stream",
     "text": [
      "0 15\n",
      "23 30\n"
     ]
    }
   ],
   "source": [
    "H, M = map(int, input().split())\n",
    "M = M - 45\n",
    "\n",
    "if M < 0:\n",
    "    H = H - 1\n",
    "    M = 60 + M\n",
    "\n",
    "if H < 0:\n",
    "    H = 23\n",
    "\n",
    "print(H, M)"
   ]
  },
  {
   "cell_type": "markdown",
   "metadata": {},
   "source": [
    "#### 6. 오븐 시계 (문제번호 2525)"
   ]
  },
  {
   "cell_type": "code",
   "execution_count": 7,
   "metadata": {},
   "outputs": [
    {
     "name": "stdout",
     "output_type": "stream",
     "text": [
      "12 45\n",
      "90\n",
      "14 15\n"
     ]
    }
   ],
   "source": [
    "now_h, now_m = map(int, input().split())\n",
    "require_m = int(input())\n",
    "\n",
    "add_m = now_m + require_m\n",
    "\n",
    "add_h = add_m // 60\n",
    "left_m = add_m % 60\n",
    "\n",
    "out_h = now_h + add_h\n",
    "out_m = left_m\n",
    "\n",
    "if out_h > 23:\n",
    "    out_h = out_h - 24\n",
    "    \n",
    "print(out_h, out_m)"
   ]
  },
  {
   "cell_type": "markdown",
   "metadata": {},
   "source": [
    "#### 7. 주사위 세개 (문제번호 2480)"
   ]
  },
  {
   "cell_type": "code",
   "execution_count": 8,
   "metadata": {},
   "outputs": [
    {
     "name": "stdout",
     "output_type": "stream",
     "text": [
      "3 3 3\n",
      "13000\n"
     ]
    }
   ],
   "source": [
    "number = list(map(int, input().split()))\n",
    "\n",
    "dict = {}\n",
    "for i in number:\n",
    "    if i not in dict.keys():\n",
    "        dict[i] = 1\n",
    "    else:\n",
    "        dict[i] += 1\n",
    "\n",
    "unique_number = list(dict.keys())\n",
    "\n",
    "dict_values = list(dict.values())\n",
    "dict_keys = list(dict.keys())\n",
    "\n",
    "max_key = dict_values.index(max(dict_values))\n",
    "duplicate_number = dict_keys[max_key]\n",
    "\n",
    "if len(unique_number) == 1:\n",
    "    print(10000 + duplicate_number * 1000)\n",
    "elif len(unique_number) == 2:\n",
    "    print(1000 + duplicate_number * 100)\n",
    "else:\n",
    "    print(max(number) * 100)"
   ]
  }
 ],
 "metadata": {
  "kernelspec": {
   "display_name": "Python 3",
   "language": "python",
   "name": "python3"
  },
  "language_info": {
   "codemirror_mode": {
    "name": "ipython",
    "version": 3
   },
   "file_extension": ".py",
   "mimetype": "text/x-python",
   "name": "python",
   "nbconvert_exporter": "python",
   "pygments_lexer": "ipython3",
   "version": "3.8.5"
  }
 },
 "nbformat": 4,
 "nbformat_minor": 4
}
