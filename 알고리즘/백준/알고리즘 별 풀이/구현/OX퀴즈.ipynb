{
 "cells": [
  {
   "cell_type": "markdown",
   "metadata": {},
   "source": [
    "# OX퀴즈\n",
    "#### (8958번)"
   ]
  },
  {
   "cell_type": "markdown",
   "metadata": {},
   "source": [
    "#### 문제\n",
    "\"OOXXOXXOOO\"와 같은 OX퀴즈의 결과가 있다. O는 문제를 맞은 것이고, X는 문제를 틀린 것이다. 문제를 맞은 경우 그 문제의 점수는 그 문제까지 연속된 O의 개수가 된다. 예를 들어, 10번 문제의 점수는 3이 된다.\n",
    "\n",
    "\"OOXXOXXOOO\"의 점수는 1+2+0+0+1+0+0+1+2+3 = 10점이다.\n",
    "\n",
    "OX퀴즈의 결과가 주어졌을 때, 점수를 구하는 프로그램을 작성하시오."
   ]
  },
  {
   "cell_type": "markdown",
   "metadata": {},
   "source": [
    "#### 입력\n",
    "첫째 줄에 테스트 케이스의 개수가 주어진다. 각 테스트 케이스는 한 줄로 이루어져 있고, 길이가 0보다 크고 80보다 작은 문자열이 주어진다. 문자열은 O와 X만으로 이루어져 있다."
   ]
  },
  {
   "cell_type": "markdown",
   "metadata": {},
   "source": [
    "#### 출력\n",
    "각 테스트 케이스마다 점수를 출력한다."
   ]
  },
  {
   "cell_type": "markdown",
   "metadata": {},
   "source": [
    "#### 알고리즘 코드"
   ]
  },
  {
   "cell_type": "code",
   "execution_count": 1,
   "metadata": {},
   "outputs": [
    {
     "name": "stdout",
     "output_type": "stream",
     "text": [
      "5\n",
      "OOXXOXXOOO\n",
      "10\n",
      "OOXXOOXXOO\n",
      "9\n",
      "OXOXOXOXOXOXOX\n",
      "7\n",
      "OOOOOOOOOO\n",
      "55\n",
      "OOOOXOOOOXOOOOX\n",
      "30\n"
     ]
    }
   ],
   "source": [
    "num_test = int(input())\n",
    "\n",
    "for case_idx in range(0, num_test):\n",
    "    \n",
    "    case = input()\n",
    "    case_splited = case.split(\"X\")\n",
    "    score = 0\n",
    "    \n",
    "    for sub_case in case_splited:\n",
    "        if \"O\" in sub_case:\n",
    "            for i in range(0, len(sub_case)):\n",
    "                score += 1 + i\n",
    "    \n",
    "    print(score)"
   ]
  }
 ],
 "metadata": {
  "kernelspec": {
   "display_name": "Python 3",
   "language": "python",
   "name": "python3"
  },
  "language_info": {
   "codemirror_mode": {
    "name": "ipython",
    "version": 3
   },
   "file_extension": ".py",
   "mimetype": "text/x-python",
   "name": "python",
   "nbconvert_exporter": "python",
   "pygments_lexer": "ipython3",
   "version": "3.8.5"
  }
 },
 "nbformat": 4,
 "nbformat_minor": 4
}
